{
 "cells": [
  {
   "cell_type": "code",
   "execution_count": 1,
   "outputs": [],
   "source": [
    "import pandas as pd\n",
    "import numpy as np\n",
    "import seaborn as sns\n",
    "import matplotlib.pyplot as plt\n",
    "import collections\n",
    "from tqdm import tqdm"
   ],
   "metadata": {
    "collapsed": false,
    "ExecuteTime": {
     "end_time": "2023-12-29T11:29:16.787149Z",
     "start_time": "2023-12-29T11:29:16.772492Z"
    }
   },
   "id": "f0f759cafb9dac75"
  },
  {
   "cell_type": "code",
   "execution_count": 7,
   "outputs": [
    {
     "name": "stdout",
     "output_type": "stream",
     "text": [
      "(1141112, 19)\n",
      "(1141112, 49)\n",
      "(1141112, 60)\n"
     ]
    }
   ],
   "source": [
    "category_features = (['user_id', 'weekday', 'hourmin', 'user_active_degree', 'is_video_author',\n",
    "                      'follow_user_num_range', 'fans_user_num_range', 'friend_user_num_range', 'register_days_range']\n",
    "                     + [f'onehot_feat{i}' for i in range(18)]\n",
    "                     + ['video_id', 'author_id', 'upload_type', 'tag'])\n",
    "continuous_features = ['duration_ms', 'server_width', 'server_height', 'follow_user_num', 'fans_user_num',\n",
    "                       'friend_user_num']\n",
    "labels = ['effective_view', 'is_like', 'long_view', 'is_follow', 'is_comment', 'is_forward', 'is_not_hate']\n",
    "raw_df = pd.read_csv('./data/log_standard_4_08_to_4_21_pure.csv')\n",
    "print(raw_df.shape)\n",
    "user_df = pd.read_csv('./data/user_features_pure.csv')\n",
    "video_df = pd.read_csv('./data/video_features_basic_pure.csv')\n",
    "raw_df = raw_df.merge(user_df, on=['user_id'])\n",
    "print(raw_df.shape)\n",
    "raw_df = raw_df.merge(video_df, on=['video_id'])\n",
    "print(raw_df.shape)\n",
    "# 处理时间\n",
    "raw_df['hour'] = raw_df['hourmin'] // 100\n",
    "# 加入星期几特征\n",
    "raw_df['date'] = pd.to_datetime(raw_df['date'], format='%Y%m%d')\n",
    "raw_df['weekday'] = raw_df['date'].dt.day_name()\n",
    "# 处理视频时长\n",
    "raw_df['duration_ms'] = raw_df['duration_ms'] // 100\n",
    "\n",
    "# 处理tag\n",
    "raw_df['tag'] = raw_df['tag'].apply(lambda x: int(str(x).split(',')[0]) if str(x).split(',')[0].isdigit() else -1)\n",
    "\n",
    "# 处理hate标签\n",
    "raw_df['is_not_hate'] = 1 - raw_df['is_hate']\n",
    "\n",
    "raw_df['effective_view'] = raw_df['is_click']"
   ],
   "metadata": {
    "collapsed": false,
    "ExecuteTime": {
     "end_time": "2023-12-29T11:39:55.468881Z",
     "start_time": "2023-12-29T11:39:47.138471Z"
    }
   },
   "id": "cb7ef4d4d328c2f2"
  },
  {
   "cell_type": "code",
   "execution_count": 8,
   "outputs": [],
   "source": [
    "history_length_max_per_user = 20\n",
    "history_length_min_per_user = 5\n",
    "user_history_id_record = collections.defaultdict(list)\n",
    "user_history_tag_record = collections.defaultdict(list)\n",
    "emp_xtr_record = dict((label, collections.defaultdict(list)) for label in labels)\n",
    "user_item_record = collections.defaultdict(list)\n",
    "# 使用NumPy数组进行操作\n",
    "history_id_columns = [f'history_id_{i}' for i in range(1, history_length_max_per_user + 1)]\n",
    "history_tag_columns = [f'history_tag_{i}' for i in range(1, history_length_max_per_user + 1)]\n",
    "gen_columns = history_tag_columns + history_id_columns + ['emp_' + label for label in labels] + ['flag']\n",
    "history_data = np.zeros((raw_df.shape[0], 2*history_length_max_per_user+len(labels)+1), dtype=np.int64)"
   ],
   "metadata": {
    "collapsed": false,
    "ExecuteTime": {
     "end_time": "2023-12-29T11:40:33.074045Z",
     "start_time": "2023-12-29T11:40:33.061404Z"
    }
   },
   "id": "876ca2b79984bb3c"
  },
  {
   "cell_type": "code",
   "execution_count": 9,
   "outputs": [
    {
     "name": "stderr",
     "output_type": "stream",
     "text": [
      "100%|██████████| 1141112/1141112 [07:57<00:00, 2387.47it/s]\n"
     ]
    }
   ],
   "source": [
    "raw_df = raw_df.sort_values('time_ms', ascending=True).reset_index(drop=True)\n",
    "for i in tqdm(range(raw_df.shape[0])):\n",
    "    user_id = raw_df.loc[i, 'user_id']\n",
    "    item_id = raw_df.loc[i, 'video_id']\n",
    "    tag_id = raw_df.loc[i, 'tag']\n",
    "    curr_len = len(user_history_id_record[user_id])\n",
    "    # 填入用户历史行为\n",
    "    if curr_len >= history_length_max_per_user:\n",
    "        history_id = user_history_id_record[user_id]\n",
    "        history_tag = user_history_tag_record[user_id]\n",
    "    else:\n",
    "        history_id = [-1] * (history_length_max_per_user - curr_len) + user_history_id_record[user_id]\n",
    "        history_tag = [-1] * (history_length_max_per_user - curr_len) + user_history_tag_record[user_id]\n",
    "    # 填入emp_xtr\n",
    "    xtr_list = []\n",
    "    n = len(user_item_record[user_id])\n",
    "    flag = False\n",
    "    if n == history_length_max_per_user:\n",
    "        post_item_id = user_item_record[user_id].pop(0)\n",
    "        flag = True\n",
    "    for label in labels:\n",
    "        if n == 0:\n",
    "            xtr_list.append(0)\n",
    "        else:\n",
    "            # print(emp_xtr_record[label][user_id], n)\n",
    "            xtr_list.append(len(emp_xtr_record[label][user_id]) / n)\n",
    "        # 只计算20个item内的emp_xtr\n",
    "        if flag and emp_xtr_record[label][user_id] and (post_item_id == emp_xtr_record[label][user_id][0]):\n",
    "            emp_xtr_record[label][user_id].pop(0)\n",
    "        if raw_df.loc[i, label]:  \n",
    "            emp_xtr_record[label][user_id].append(item_id)\n",
    "    # 确定这条样本是否保留，如果小于历史记录最小长度则去掉\n",
    "    if curr_len >= history_length_min_per_user:\n",
    "        history = np.concatenate([history_tag, history_id, xtr_list, [True]])\n",
    "    else:\n",
    "        history = np.concatenate([history_tag, history_id, xtr_list, [False]])\n",
    "    # 使用NumPy数组进行赋值\n",
    "    # print(history)\n",
    "    history_data[i] = history\n",
    "    if raw_df.loc[i, 'effective_view']:\n",
    "        user_history_id_record[user_id].append(item_id)\n",
    "        user_history_tag_record[user_id].append(tag_id)\n",
    "        curr_len += 1\n",
    "        if curr_len >= history_length_max_per_user:\n",
    "            user_history_id_record[user_id].pop(0)\n",
    "            user_history_tag_record[user_id].pop(0)\n",
    "        \n",
    "    user_item_record[user_id].append(item_id)\n",
    "raw_df[gen_columns] = history_data"
   ],
   "metadata": {
    "collapsed": false,
    "ExecuteTime": {
     "end_time": "2023-12-29T11:50:01.225206Z",
     "start_time": "2023-12-29T11:40:51.496267Z"
    }
   },
   "id": "7e9d3a56aae2764d"
  },
  {
   "cell_type": "code",
   "execution_count": 12,
   "outputs": [
    {
     "name": "stdout",
     "output_type": "stream",
     "text": [
      "Index(['user_id', 'video_id', 'date', 'hourmin', 'time_ms', 'is_click',\n",
      "       'is_like', 'is_follow', 'is_comment', 'is_forward',\n",
      "       ...\n",
      "       'history_id_19', 'history_id_20', 'emp_effective_view', 'emp_is_like',\n",
      "       'emp_long_view', 'emp_is_follow', 'emp_is_comment', 'emp_is_forward',\n",
      "       'emp_is_not_hate', 'flag'],\n",
      "      dtype='object', length=112)\n"
     ]
    },
    {
     "data": {
      "text/plain": "   user_id  video_id       date  hourmin        time_ms  is_click  is_like  \\\n0      206      6580 2022-04-09     1500  1649489630616         0        0   \n1    15207      6975 2022-04-09     1600  1649490958921         0        0   \n2    23901        53 2022-04-09     1600  1649491325278         1        0   \n3     1012      3310 2022-04-09     1600  1649491826829         0        0   \n4    21600      7184 2022-04-09     1600  1649492300922         0        1   \n\n   is_follow  is_comment  is_forward  ...  history_id_19  history_id_20  \\\n0          0           0           0  ...           2309           2635   \n1          0           0           0  ...           4763           4763   \n2          0           0           0  ...           6975           3310   \n3          0           0           0  ...            655           6532   \n4          0           0           0  ...           3876           3706   \n\n   emp_effective_view  emp_is_like  emp_long_view  emp_is_follow  \\\n0                   0            0              0              0   \n1                   0            0              0              0   \n2                   0            0              0              0   \n3                   0            0              0              0   \n4                   1            0              0              0   \n\n   emp_is_comment  emp_is_forward  emp_is_not_hate flag  \n0               0               0                1    1  \n1               0               0                1    1  \n2               0               0                1    1  \n3               0               0                1    1  \n4               0               0                1    1  \n\n[5 rows x 112 columns]",
      "text/html": "<div>\n<style scoped>\n    .dataframe tbody tr th:only-of-type {\n        vertical-align: middle;\n    }\n\n    .dataframe tbody tr th {\n        vertical-align: top;\n    }\n\n    .dataframe thead th {\n        text-align: right;\n    }\n</style>\n<table border=\"1\" class=\"dataframe\">\n  <thead>\n    <tr style=\"text-align: right;\">\n      <th></th>\n      <th>user_id</th>\n      <th>video_id</th>\n      <th>date</th>\n      <th>hourmin</th>\n      <th>time_ms</th>\n      <th>is_click</th>\n      <th>is_like</th>\n      <th>is_follow</th>\n      <th>is_comment</th>\n      <th>is_forward</th>\n      <th>...</th>\n      <th>history_id_19</th>\n      <th>history_id_20</th>\n      <th>emp_effective_view</th>\n      <th>emp_is_like</th>\n      <th>emp_long_view</th>\n      <th>emp_is_follow</th>\n      <th>emp_is_comment</th>\n      <th>emp_is_forward</th>\n      <th>emp_is_not_hate</th>\n      <th>flag</th>\n    </tr>\n  </thead>\n  <tbody>\n    <tr>\n      <th>0</th>\n      <td>206</td>\n      <td>6580</td>\n      <td>2022-04-09</td>\n      <td>1500</td>\n      <td>1649489630616</td>\n      <td>0</td>\n      <td>0</td>\n      <td>0</td>\n      <td>0</td>\n      <td>0</td>\n      <td>...</td>\n      <td>2309</td>\n      <td>2635</td>\n      <td>0</td>\n      <td>0</td>\n      <td>0</td>\n      <td>0</td>\n      <td>0</td>\n      <td>0</td>\n      <td>1</td>\n      <td>1</td>\n    </tr>\n    <tr>\n      <th>1</th>\n      <td>15207</td>\n      <td>6975</td>\n      <td>2022-04-09</td>\n      <td>1600</td>\n      <td>1649490958921</td>\n      <td>0</td>\n      <td>0</td>\n      <td>0</td>\n      <td>0</td>\n      <td>0</td>\n      <td>...</td>\n      <td>4763</td>\n      <td>4763</td>\n      <td>0</td>\n      <td>0</td>\n      <td>0</td>\n      <td>0</td>\n      <td>0</td>\n      <td>0</td>\n      <td>1</td>\n      <td>1</td>\n    </tr>\n    <tr>\n      <th>2</th>\n      <td>23901</td>\n      <td>53</td>\n      <td>2022-04-09</td>\n      <td>1600</td>\n      <td>1649491325278</td>\n      <td>1</td>\n      <td>0</td>\n      <td>0</td>\n      <td>0</td>\n      <td>0</td>\n      <td>...</td>\n      <td>6975</td>\n      <td>3310</td>\n      <td>0</td>\n      <td>0</td>\n      <td>0</td>\n      <td>0</td>\n      <td>0</td>\n      <td>0</td>\n      <td>1</td>\n      <td>1</td>\n    </tr>\n    <tr>\n      <th>3</th>\n      <td>1012</td>\n      <td>3310</td>\n      <td>2022-04-09</td>\n      <td>1600</td>\n      <td>1649491826829</td>\n      <td>0</td>\n      <td>0</td>\n      <td>0</td>\n      <td>0</td>\n      <td>0</td>\n      <td>...</td>\n      <td>655</td>\n      <td>6532</td>\n      <td>0</td>\n      <td>0</td>\n      <td>0</td>\n      <td>0</td>\n      <td>0</td>\n      <td>0</td>\n      <td>1</td>\n      <td>1</td>\n    </tr>\n    <tr>\n      <th>4</th>\n      <td>21600</td>\n      <td>7184</td>\n      <td>2022-04-09</td>\n      <td>1600</td>\n      <td>1649492300922</td>\n      <td>0</td>\n      <td>1</td>\n      <td>0</td>\n      <td>0</td>\n      <td>0</td>\n      <td>...</td>\n      <td>3876</td>\n      <td>3706</td>\n      <td>1</td>\n      <td>0</td>\n      <td>0</td>\n      <td>0</td>\n      <td>0</td>\n      <td>0</td>\n      <td>1</td>\n      <td>1</td>\n    </tr>\n  </tbody>\n</table>\n<p>5 rows × 112 columns</p>\n</div>"
     },
     "execution_count": 12,
     "metadata": {},
     "output_type": "execute_result"
    }
   ],
   "source": [
    "print(raw_df.columns)\n",
    "full_df = raw_df[raw_df['flag']==1].reset_index(drop=True).copy()\n",
    "full_df.head()"
   ],
   "metadata": {
    "collapsed": false,
    "ExecuteTime": {
     "end_time": "2023-12-29T11:50:41.604255Z",
     "start_time": "2023-12-29T11:50:39.052059Z"
    }
   },
   "id": "8dd035a82de4adec"
  },
  {
   "cell_type": "code",
   "execution_count": 22,
   "outputs": [
    {
     "data": {
      "text/plain": "        history_tag_1  history_tag_2  history_tag_3  history_tag_4  \\\n0                  -1             -1             -1             -1   \n1                  -1             -1             -1             -1   \n2                  -1             -1             -1             -1   \n3                  -1             -1             -1             -1   \n4                  -1             -1             -1             -1   \n...               ...            ...            ...            ...   \n862517             -1              9             36             39   \n862518             -1             17              6             17   \n862519             -1             28             62             39   \n862520             -1              5             39             39   \n862521             -1             -1             -1             -1   \n\n        history_tag_5  history_tag_6  history_tag_7  history_tag_8  \\\n0                  -1             -1             -1             -1   \n1                  -1             -1             -1             -1   \n2                  -1             -1             -1             -1   \n3                  -1             -1             -1             -1   \n4                  -1             -1             -1             -1   \n...               ...            ...            ...            ...   \n862517              9             14             39              4   \n862518              9             42             39              7   \n862519              8             39             39             11   \n862520             39             39             39             39   \n862521             -1             -1             -1             -1   \n\n        history_tag_9  history_tag_10  history_tag_11  history_tag_12  \\\n0                  -1              -1              -1              -1   \n1                  -1              -1              -1              -1   \n2                  -1              -1              -1              -1   \n3                  -1              -1              -1              -1   \n4                  -1              -1              -1              -1   \n...               ...             ...             ...             ...   \n862517              9              20              17              17   \n862518             39              28               6               9   \n862519             39              -1               4               6   \n862520             39              39              39              12   \n862521             -1              -1              -1              -1   \n\n        history_tag_13  history_tag_14  history_tag_15  history_tag_16  \\\n0                   -1              -1              -1               3   \n1                   -1              -1              -1              39   \n2                   -1              -1              -1              20   \n3                   -1              -1              -1              12   \n4                   -1              -1              -1              39   \n...                ...             ...             ...             ...   \n862517               9              39               3              12   \n862518              39              39              15              17   \n862519               5              17               6              12   \n862520              39              39              29               6   \n862521              -1              28              22              28   \n\n        history_tag_17  history_tag_18  history_tag_19  history_tag_20  \n0                    3               9              20               9  \n1                   39               1               1               1  \n2                    9              17              12              17  \n3                   20              20              39               6  \n4                   39               7               7               6  \n...                ...             ...             ...             ...  \n862517               8              11              29              12  \n862518              39               1               9               9  \n862519              39               2              12               9  \n862520              11              39              17              10  \n862521              39               9               6              21  \n\n[862522 rows x 20 columns]",
      "text/html": "<div>\n<style scoped>\n    .dataframe tbody tr th:only-of-type {\n        vertical-align: middle;\n    }\n\n    .dataframe tbody tr th {\n        vertical-align: top;\n    }\n\n    .dataframe thead th {\n        text-align: right;\n    }\n</style>\n<table border=\"1\" class=\"dataframe\">\n  <thead>\n    <tr style=\"text-align: right;\">\n      <th></th>\n      <th>history_tag_1</th>\n      <th>history_tag_2</th>\n      <th>history_tag_3</th>\n      <th>history_tag_4</th>\n      <th>history_tag_5</th>\n      <th>history_tag_6</th>\n      <th>history_tag_7</th>\n      <th>history_tag_8</th>\n      <th>history_tag_9</th>\n      <th>history_tag_10</th>\n      <th>history_tag_11</th>\n      <th>history_tag_12</th>\n      <th>history_tag_13</th>\n      <th>history_tag_14</th>\n      <th>history_tag_15</th>\n      <th>history_tag_16</th>\n      <th>history_tag_17</th>\n      <th>history_tag_18</th>\n      <th>history_tag_19</th>\n      <th>history_tag_20</th>\n    </tr>\n  </thead>\n  <tbody>\n    <tr>\n      <th>0</th>\n      <td>-1</td>\n      <td>-1</td>\n      <td>-1</td>\n      <td>-1</td>\n      <td>-1</td>\n      <td>-1</td>\n      <td>-1</td>\n      <td>-1</td>\n      <td>-1</td>\n      <td>-1</td>\n      <td>-1</td>\n      <td>-1</td>\n      <td>-1</td>\n      <td>-1</td>\n      <td>-1</td>\n      <td>3</td>\n      <td>3</td>\n      <td>9</td>\n      <td>20</td>\n      <td>9</td>\n    </tr>\n    <tr>\n      <th>1</th>\n      <td>-1</td>\n      <td>-1</td>\n      <td>-1</td>\n      <td>-1</td>\n      <td>-1</td>\n      <td>-1</td>\n      <td>-1</td>\n      <td>-1</td>\n      <td>-1</td>\n      <td>-1</td>\n      <td>-1</td>\n      <td>-1</td>\n      <td>-1</td>\n      <td>-1</td>\n      <td>-1</td>\n      <td>39</td>\n      <td>39</td>\n      <td>1</td>\n      <td>1</td>\n      <td>1</td>\n    </tr>\n    <tr>\n      <th>2</th>\n      <td>-1</td>\n      <td>-1</td>\n      <td>-1</td>\n      <td>-1</td>\n      <td>-1</td>\n      <td>-1</td>\n      <td>-1</td>\n      <td>-1</td>\n      <td>-1</td>\n      <td>-1</td>\n      <td>-1</td>\n      <td>-1</td>\n      <td>-1</td>\n      <td>-1</td>\n      <td>-1</td>\n      <td>20</td>\n      <td>9</td>\n      <td>17</td>\n      <td>12</td>\n      <td>17</td>\n    </tr>\n    <tr>\n      <th>3</th>\n      <td>-1</td>\n      <td>-1</td>\n      <td>-1</td>\n      <td>-1</td>\n      <td>-1</td>\n      <td>-1</td>\n      <td>-1</td>\n      <td>-1</td>\n      <td>-1</td>\n      <td>-1</td>\n      <td>-1</td>\n      <td>-1</td>\n      <td>-1</td>\n      <td>-1</td>\n      <td>-1</td>\n      <td>12</td>\n      <td>20</td>\n      <td>20</td>\n      <td>39</td>\n      <td>6</td>\n    </tr>\n    <tr>\n      <th>4</th>\n      <td>-1</td>\n      <td>-1</td>\n      <td>-1</td>\n      <td>-1</td>\n      <td>-1</td>\n      <td>-1</td>\n      <td>-1</td>\n      <td>-1</td>\n      <td>-1</td>\n      <td>-1</td>\n      <td>-1</td>\n      <td>-1</td>\n      <td>-1</td>\n      <td>-1</td>\n      <td>-1</td>\n      <td>39</td>\n      <td>39</td>\n      <td>7</td>\n      <td>7</td>\n      <td>6</td>\n    </tr>\n    <tr>\n      <th>...</th>\n      <td>...</td>\n      <td>...</td>\n      <td>...</td>\n      <td>...</td>\n      <td>...</td>\n      <td>...</td>\n      <td>...</td>\n      <td>...</td>\n      <td>...</td>\n      <td>...</td>\n      <td>...</td>\n      <td>...</td>\n      <td>...</td>\n      <td>...</td>\n      <td>...</td>\n      <td>...</td>\n      <td>...</td>\n      <td>...</td>\n      <td>...</td>\n      <td>...</td>\n    </tr>\n    <tr>\n      <th>862517</th>\n      <td>-1</td>\n      <td>9</td>\n      <td>36</td>\n      <td>39</td>\n      <td>9</td>\n      <td>14</td>\n      <td>39</td>\n      <td>4</td>\n      <td>9</td>\n      <td>20</td>\n      <td>17</td>\n      <td>17</td>\n      <td>9</td>\n      <td>39</td>\n      <td>3</td>\n      <td>12</td>\n      <td>8</td>\n      <td>11</td>\n      <td>29</td>\n      <td>12</td>\n    </tr>\n    <tr>\n      <th>862518</th>\n      <td>-1</td>\n      <td>17</td>\n      <td>6</td>\n      <td>17</td>\n      <td>9</td>\n      <td>42</td>\n      <td>39</td>\n      <td>7</td>\n      <td>39</td>\n      <td>28</td>\n      <td>6</td>\n      <td>9</td>\n      <td>39</td>\n      <td>39</td>\n      <td>15</td>\n      <td>17</td>\n      <td>39</td>\n      <td>1</td>\n      <td>9</td>\n      <td>9</td>\n    </tr>\n    <tr>\n      <th>862519</th>\n      <td>-1</td>\n      <td>28</td>\n      <td>62</td>\n      <td>39</td>\n      <td>8</td>\n      <td>39</td>\n      <td>39</td>\n      <td>11</td>\n      <td>39</td>\n      <td>-1</td>\n      <td>4</td>\n      <td>6</td>\n      <td>5</td>\n      <td>17</td>\n      <td>6</td>\n      <td>12</td>\n      <td>39</td>\n      <td>2</td>\n      <td>12</td>\n      <td>9</td>\n    </tr>\n    <tr>\n      <th>862520</th>\n      <td>-1</td>\n      <td>5</td>\n      <td>39</td>\n      <td>39</td>\n      <td>39</td>\n      <td>39</td>\n      <td>39</td>\n      <td>39</td>\n      <td>39</td>\n      <td>39</td>\n      <td>39</td>\n      <td>12</td>\n      <td>39</td>\n      <td>39</td>\n      <td>29</td>\n      <td>6</td>\n      <td>11</td>\n      <td>39</td>\n      <td>17</td>\n      <td>10</td>\n    </tr>\n    <tr>\n      <th>862521</th>\n      <td>-1</td>\n      <td>-1</td>\n      <td>-1</td>\n      <td>-1</td>\n      <td>-1</td>\n      <td>-1</td>\n      <td>-1</td>\n      <td>-1</td>\n      <td>-1</td>\n      <td>-1</td>\n      <td>-1</td>\n      <td>-1</td>\n      <td>-1</td>\n      <td>28</td>\n      <td>22</td>\n      <td>28</td>\n      <td>39</td>\n      <td>9</td>\n      <td>6</td>\n      <td>21</td>\n    </tr>\n  </tbody>\n</table>\n<p>862522 rows × 20 columns</p>\n</div>"
     },
     "execution_count": 22,
     "metadata": {},
     "output_type": "execute_result"
    }
   ],
   "source": [
    "full_df = full_df[gen_columns]\n",
    "full_df[history_tag_columns]"
   ],
   "metadata": {
    "collapsed": false,
    "ExecuteTime": {
     "end_time": "2023-12-30T06:31:05.055876Z",
     "start_time": "2023-12-30T06:31:02.947670Z"
    }
   },
   "id": "2fe7d7cb5768d357"
  },
  {
   "cell_type": "code",
   "execution_count": null,
   "outputs": [],
   "source": [],
   "metadata": {
    "collapsed": false
   },
   "id": "534fed26ccdc0637"
  }
 ],
 "metadata": {
  "kernelspec": {
   "display_name": "Python 3",
   "language": "python",
   "name": "python3"
  },
  "language_info": {
   "codemirror_mode": {
    "name": "ipython",
    "version": 2
   },
   "file_extension": ".py",
   "mimetype": "text/x-python",
   "name": "python",
   "nbconvert_exporter": "python",
   "pygments_lexer": "ipython2",
   "version": "2.7.6"
  }
 },
 "nbformat": 4,
 "nbformat_minor": 5
}
