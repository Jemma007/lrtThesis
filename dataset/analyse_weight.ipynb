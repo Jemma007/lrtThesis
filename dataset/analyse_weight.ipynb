{
 "cells": [
  {
   "cell_type": "code",
   "execution_count": null,
   "id": "initial_id",
   "metadata": {
    "collapsed": true
   },
   "outputs": [],
   "source": [
    "import pandas as pd\n",
    "import numpy as np\n",
    "import matplotlib.pyplot as plt\n",
    "import seaborn as sns"
   ]
  },
  {
   "cell_type": "code",
   "execution_count": null,
   "outputs": [],
   "source": [
    "raw_log_path = './dataset/data/log_standard_4_08_to_4_21_pure.csv'\n",
    "user_feature_path = './dataset/data/user_features_pure.csv'\n",
    "video_feature_path = './dataset/data/video_features_basic_pure.csv'\n",
    "save_path = './dataset/data/save/'\n",
    "category_features = (['user_id', 'weekday', 'hourmin', 'user_active_degree', 'is_video_author',\n",
    "                     'follow_user_num_range', 'fans_user_num_range', 'friend_user_num_range', 'register_days_range']\n",
    "                     + [f'onehot_feat{i}' for i in range(18)]\n",
    "                     + ['video_id', 'author_id', 'upload_type', 'tag'])\n",
    "continuous_features = ['duration_ms', 'server_width', 'server_height', 'follow_user_num', 'fans_user_num', 'friend_user_num']\n",
    "labels = ['effective_view', 'is_like', 'long_view', 'is_follow', 'is_comment', 'is_forward']# , 'is_not_hate']\n",
    "history_length_max_per_user = 20\n",
    "history_length_min_per_user = 3\n",
    "history_id_columns = [f'history_id_{i}' for i in range(1, history_length_max_per_user + 1)]\n",
    "history_tag_columns = [f'history_tag_{i}' for i in range(1, history_length_max_per_user + 1)]\n",
    "emp_list = ['emp_'+label for label in labels]\n",
    "gen_columns = history_tag_columns + history_id_columns + emp_list + ['curr_len']\n",
    "user_features = (['user_id', 'weekday', 'hourmin', 'user_active_degree', 'is_video_author',\n",
    "                     'follow_user_num_range', 'fans_user_num_range', 'friend_user_num_range', 'register_days_range', 'follow_user_num', 'fans_user_num', 'friend_user_num'] +\n",
    "                [f'onehot_feat{i}' for i in range(18)]) + history_tag_columns + history_id_columns\n"
   ],
   "metadata": {
    "collapsed": false
   },
   "id": "72750e09062ae9cf"
  },
  {
   "cell_type": "code",
   "execution_count": null,
   "outputs": [],
   "source": [],
   "metadata": {
    "collapsed": false
   },
   "id": "8a775f753b93ab7f"
  }
 ],
 "metadata": {
  "kernelspec": {
   "display_name": "Python 3",
   "language": "python",
   "name": "python3"
  },
  "language_info": {
   "codemirror_mode": {
    "name": "ipython",
    "version": 2
   },
   "file_extension": ".py",
   "mimetype": "text/x-python",
   "name": "python",
   "nbconvert_exporter": "python",
   "pygments_lexer": "ipython2",
   "version": "2.7.6"
  }
 },
 "nbformat": 4,
 "nbformat_minor": 5
}
