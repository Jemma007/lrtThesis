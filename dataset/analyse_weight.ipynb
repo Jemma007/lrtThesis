{
 "cells": [
  {
   "cell_type": "code",
   "execution_count": 57,
   "id": "initial_id",
   "metadata": {
    "collapsed": true,
    "ExecuteTime": {
     "end_time": "2024-01-03T07:31:48.797752Z",
     "start_time": "2024-01-03T07:31:48.793707Z"
    }
   },
   "outputs": [],
   "source": [
    "import collections\n",
    "\n",
    "import pandas as pd\n",
    "import numpy as np\n",
    "import matplotlib.pyplot as plt\n",
    "import seaborn as sns"
   ]
  },
  {
   "cell_type": "code",
   "execution_count": 21,
   "outputs": [],
   "source": [
    "raw_log_path = './dataset/data/log_standard_4_08_to_4_21_pure.csv'\n",
    "user_feature_path = './dataset/data/user_features_pure.csv'\n",
    "video_feature_path = './dataset/data/video_features_basic_pure.csv'\n",
    "save_path = './dataset/data/save/'\n",
    "category_features = (['user_id', 'weekday', 'hourmin', 'user_active_degree', 'is_video_author',\n",
    "                     'follow_user_num_range', 'fans_user_num_range', 'friend_user_num_range', 'register_days_range']\n",
    "                     + [f'onehot_feat{i}' for i in range(18)]\n",
    "                     + ['video_id', 'author_id', 'upload_type', 'tag'])\n",
    "continuous_features = ['duration_ms', 'server_width', 'server_height', 'follow_user_num', 'fans_user_num', 'friend_user_num']\n",
    "labels = ['effective_view', 'is_like', 'long_view', 'is_follow', 'is_comment', 'is_forward']# , 'is_not_hate']\n",
    "history_length_max_per_user = 20\n",
    "history_length_min_per_user = 3\n",
    "history_id_columns = [f'history_id_{i}' for i in range(1, history_length_max_per_user + 1)]\n",
    "history_tag_columns = [f'history_tag_{i}' for i in range(1, history_length_max_per_user + 1)]\n",
    "emp_list = ['emp_'+label for label in labels]\n",
    "gen_columns = history_tag_columns + history_id_columns + emp_list + ['curr_len']\n",
    "user_features = (['user_id', 'weekday', 'hourmin', 'user_active_degree', 'is_video_author',\n",
    "                     'follow_user_num_range', 'fans_user_num_range', 'friend_user_num_range', 'register_days_range', 'follow_user_num', 'fans_user_num', 'friend_user_num'] +\n",
    "                [f'onehot_feat{i}' for i in range(18)]) + history_tag_columns + history_id_columns\n"
   ],
   "metadata": {
    "collapsed": false,
    "ExecuteTime": {
     "end_time": "2024-01-03T06:13:51.189886Z",
     "start_time": "2024-01-03T06:13:51.175717Z"
    }
   },
   "id": "72750e09062ae9cf"
  },
  {
   "cell_type": "code",
   "execution_count": 24,
   "outputs": [
    {
     "data": {
      "text/plain": "    user_id  weekday  hourmin  user_active_degree  is_video_author  \\\n0     27275        3       17                   4                1   \n1     22650        3       17                   4                1   \n2     15383        3       17                   7                1   \n3     11988        3       17                   4                1   \n4     19898        3       17                   4                1   \n5      8795        3       17                   4                1   \n6     17581        3       17                   5                1   \n7     18191        3       17                   5                1   \n8      5305        3       17                   4                1   \n9     14619        3       17                   7                1   \n10    26509        3       17                   4                1   \n11    19455        3       17                   7                1   \n12    24227        3       17                   4                1   \n13      151        3       17                   4                1   \n14    14253        3       17                   7                0   \n15    26066        3       17                   4                1   \n16    14596        3       17                   5                1   \n17    15792        3       17                   4                1   \n18     1538        3       17                   4                1   \n19     9388        3       17                   7                0   \n\n    follow_user_num_range  fans_user_num_range  friend_user_num_range  \\\n0                       7                    2                      5   \n1                       4                    2                      5   \n2                       4                    1                      0   \n3                       1                    1                      2   \n4                       3                    3                      6   \n5                       1                    3                      5   \n6                       7                    6                      1   \n7                       3                    3                      3   \n8                       4                    3                      3   \n9                       4                    3                      1   \n10                      1                    3                      4   \n11                      2                    3                      3   \n12                      4                    3                      3   \n13                      3                    2                      5   \n14                      2                    2                      2   \n15                      0                    3                      2   \n16                      7                    2                      5   \n17                      5                    2                      4   \n18                      3                    2                      5   \n19                      5                    2                      5   \n\n    register_days_range  onehot_feat0  ...  p_long_view  p_is_follow  \\\n0                     5             1  ...     0.331858     0.000533   \n1                     5             0  ...     0.249902     0.000047   \n2                     5             1  ...     0.913792     0.002848   \n3                     6             1  ...     0.596418     0.000643   \n4                     5             0  ...     0.598933     0.000095   \n5                     5             0  ...     0.122511     0.000042   \n6                     1             0  ...     0.818348     0.002497   \n7                     5             1  ...     0.677097     0.000492   \n8                     3             0  ...     0.074175     0.000216   \n9                     3             1  ...     0.588013     0.000123   \n10                    5             1  ...     0.129980     0.000226   \n11                    3             0  ...     0.807814     0.000297   \n12                    3             0  ...     0.106806     0.002186   \n13                    5             1  ...     0.025296     0.000065   \n14                    5             1  ...     0.750071     0.000432   \n15                    5             0  ...     0.036961     0.000227   \n16                    5             0  ...     0.493043     0.000408   \n17                    5             0  ...     0.658829     0.001542   \n18                    4             1  ...     0.713415     0.000789   \n19                    3             1  ...     0.154603     0.000443   \n\n    p_is_comment  p_is_forward  w_effective_view  w_is_like  w_long_view  \\\n0       0.000808      0.000326          0.430705   1.000000     0.434008   \n1       0.000138      0.000045          0.430705   1.000000     0.434008   \n2       0.004871      0.003326          1.000000   0.557877     1.000000   \n3       0.002647      0.000579          0.999915   1.000000     1.000000   \n4       0.000411      0.000131          0.492412   1.000000     0.489328   \n5       0.000138      0.000039          0.430705   1.000000     0.434008   \n6       0.008099      0.001663          0.430710   0.354824     0.501742   \n7       0.001210      0.000593          0.494290   1.000000     0.498268   \n8       0.000645      0.000059          1.000000   1.000000     1.000000   \n9       0.000252      0.000063          0.492416   1.000000     0.489328   \n10      0.000990      0.000158          0.430705   1.000000     1.000000   \n11      0.000797      0.000203          1.000000   1.000000     1.000000   \n12      0.009635      0.002455          1.000000   1.000000     1.000000   \n13      0.000135      0.000032          1.000000   1.000000     1.000000   \n14      0.002795      0.000569          0.492438   1.000000     0.489343   \n15      0.000961      0.000185          0.430705   1.000000     0.434008   \n16      0.000694      0.000310          0.430705   1.000000     0.434008   \n17      0.009230      0.002211          0.492415   1.000000     0.489328   \n18      0.001783      0.000766          1.000000   1.000000     0.489328   \n19      0.001009      0.000505          0.430705   1.000000     0.434008   \n\n    w_is_follow  w_is_comment  w_is_forward  \n0      1.000000      1.000000      1.000000  \n1      1.000000      0.998282      1.000000  \n2      1.000000      1.000000      1.000000  \n3      1.000000      1.000000      1.000000  \n4      1.000000      0.188832      1.000000  \n5      0.962020      1.000000      1.000000  \n6      1.000000      1.000000      0.999960  \n7      1.000000      1.000000      1.000000  \n8      0.999802      1.000000      1.000000  \n9      1.000000      1.000000      1.000000  \n10     0.999998      0.783058      0.999859  \n11     1.000000      1.000000      1.000000  \n12     1.000000      1.000000      1.000000  \n13     1.000000      1.000000      1.000000  \n14     1.000000      1.000000      1.000000  \n15     0.209436      0.922564      0.848056  \n16     1.000000      1.000000      1.000000  \n17     0.999071      1.000000      1.000000  \n18     1.000000      1.000000      1.000000  \n19     1.000000      1.000000      1.000000  \n\n[20 rows x 102 columns]",
      "text/html": "<div>\n<style scoped>\n    .dataframe tbody tr th:only-of-type {\n        vertical-align: middle;\n    }\n\n    .dataframe tbody tr th {\n        vertical-align: top;\n    }\n\n    .dataframe thead th {\n        text-align: right;\n    }\n</style>\n<table border=\"1\" class=\"dataframe\">\n  <thead>\n    <tr style=\"text-align: right;\">\n      <th></th>\n      <th>user_id</th>\n      <th>weekday</th>\n      <th>hourmin</th>\n      <th>user_active_degree</th>\n      <th>is_video_author</th>\n      <th>follow_user_num_range</th>\n      <th>fans_user_num_range</th>\n      <th>friend_user_num_range</th>\n      <th>register_days_range</th>\n      <th>onehot_feat0</th>\n      <th>...</th>\n      <th>p_long_view</th>\n      <th>p_is_follow</th>\n      <th>p_is_comment</th>\n      <th>p_is_forward</th>\n      <th>w_effective_view</th>\n      <th>w_is_like</th>\n      <th>w_long_view</th>\n      <th>w_is_follow</th>\n      <th>w_is_comment</th>\n      <th>w_is_forward</th>\n    </tr>\n  </thead>\n  <tbody>\n    <tr>\n      <th>0</th>\n      <td>27275</td>\n      <td>3</td>\n      <td>17</td>\n      <td>4</td>\n      <td>1</td>\n      <td>7</td>\n      <td>2</td>\n      <td>5</td>\n      <td>5</td>\n      <td>1</td>\n      <td>...</td>\n      <td>0.331858</td>\n      <td>0.000533</td>\n      <td>0.000808</td>\n      <td>0.000326</td>\n      <td>0.430705</td>\n      <td>1.000000</td>\n      <td>0.434008</td>\n      <td>1.000000</td>\n      <td>1.000000</td>\n      <td>1.000000</td>\n    </tr>\n    <tr>\n      <th>1</th>\n      <td>22650</td>\n      <td>3</td>\n      <td>17</td>\n      <td>4</td>\n      <td>1</td>\n      <td>4</td>\n      <td>2</td>\n      <td>5</td>\n      <td>5</td>\n      <td>0</td>\n      <td>...</td>\n      <td>0.249902</td>\n      <td>0.000047</td>\n      <td>0.000138</td>\n      <td>0.000045</td>\n      <td>0.430705</td>\n      <td>1.000000</td>\n      <td>0.434008</td>\n      <td>1.000000</td>\n      <td>0.998282</td>\n      <td>1.000000</td>\n    </tr>\n    <tr>\n      <th>2</th>\n      <td>15383</td>\n      <td>3</td>\n      <td>17</td>\n      <td>7</td>\n      <td>1</td>\n      <td>4</td>\n      <td>1</td>\n      <td>0</td>\n      <td>5</td>\n      <td>1</td>\n      <td>...</td>\n      <td>0.913792</td>\n      <td>0.002848</td>\n      <td>0.004871</td>\n      <td>0.003326</td>\n      <td>1.000000</td>\n      <td>0.557877</td>\n      <td>1.000000</td>\n      <td>1.000000</td>\n      <td>1.000000</td>\n      <td>1.000000</td>\n    </tr>\n    <tr>\n      <th>3</th>\n      <td>11988</td>\n      <td>3</td>\n      <td>17</td>\n      <td>4</td>\n      <td>1</td>\n      <td>1</td>\n      <td>1</td>\n      <td>2</td>\n      <td>6</td>\n      <td>1</td>\n      <td>...</td>\n      <td>0.596418</td>\n      <td>0.000643</td>\n      <td>0.002647</td>\n      <td>0.000579</td>\n      <td>0.999915</td>\n      <td>1.000000</td>\n      <td>1.000000</td>\n      <td>1.000000</td>\n      <td>1.000000</td>\n      <td>1.000000</td>\n    </tr>\n    <tr>\n      <th>4</th>\n      <td>19898</td>\n      <td>3</td>\n      <td>17</td>\n      <td>4</td>\n      <td>1</td>\n      <td>3</td>\n      <td>3</td>\n      <td>6</td>\n      <td>5</td>\n      <td>0</td>\n      <td>...</td>\n      <td>0.598933</td>\n      <td>0.000095</td>\n      <td>0.000411</td>\n      <td>0.000131</td>\n      <td>0.492412</td>\n      <td>1.000000</td>\n      <td>0.489328</td>\n      <td>1.000000</td>\n      <td>0.188832</td>\n      <td>1.000000</td>\n    </tr>\n    <tr>\n      <th>5</th>\n      <td>8795</td>\n      <td>3</td>\n      <td>17</td>\n      <td>4</td>\n      <td>1</td>\n      <td>1</td>\n      <td>3</td>\n      <td>5</td>\n      <td>5</td>\n      <td>0</td>\n      <td>...</td>\n      <td>0.122511</td>\n      <td>0.000042</td>\n      <td>0.000138</td>\n      <td>0.000039</td>\n      <td>0.430705</td>\n      <td>1.000000</td>\n      <td>0.434008</td>\n      <td>0.962020</td>\n      <td>1.000000</td>\n      <td>1.000000</td>\n    </tr>\n    <tr>\n      <th>6</th>\n      <td>17581</td>\n      <td>3</td>\n      <td>17</td>\n      <td>5</td>\n      <td>1</td>\n      <td>7</td>\n      <td>6</td>\n      <td>1</td>\n      <td>1</td>\n      <td>0</td>\n      <td>...</td>\n      <td>0.818348</td>\n      <td>0.002497</td>\n      <td>0.008099</td>\n      <td>0.001663</td>\n      <td>0.430710</td>\n      <td>0.354824</td>\n      <td>0.501742</td>\n      <td>1.000000</td>\n      <td>1.000000</td>\n      <td>0.999960</td>\n    </tr>\n    <tr>\n      <th>7</th>\n      <td>18191</td>\n      <td>3</td>\n      <td>17</td>\n      <td>5</td>\n      <td>1</td>\n      <td>3</td>\n      <td>3</td>\n      <td>3</td>\n      <td>5</td>\n      <td>1</td>\n      <td>...</td>\n      <td>0.677097</td>\n      <td>0.000492</td>\n      <td>0.001210</td>\n      <td>0.000593</td>\n      <td>0.494290</td>\n      <td>1.000000</td>\n      <td>0.498268</td>\n      <td>1.000000</td>\n      <td>1.000000</td>\n      <td>1.000000</td>\n    </tr>\n    <tr>\n      <th>8</th>\n      <td>5305</td>\n      <td>3</td>\n      <td>17</td>\n      <td>4</td>\n      <td>1</td>\n      <td>4</td>\n      <td>3</td>\n      <td>3</td>\n      <td>3</td>\n      <td>0</td>\n      <td>...</td>\n      <td>0.074175</td>\n      <td>0.000216</td>\n      <td>0.000645</td>\n      <td>0.000059</td>\n      <td>1.000000</td>\n      <td>1.000000</td>\n      <td>1.000000</td>\n      <td>0.999802</td>\n      <td>1.000000</td>\n      <td>1.000000</td>\n    </tr>\n    <tr>\n      <th>9</th>\n      <td>14619</td>\n      <td>3</td>\n      <td>17</td>\n      <td>7</td>\n      <td>1</td>\n      <td>4</td>\n      <td>3</td>\n      <td>1</td>\n      <td>3</td>\n      <td>1</td>\n      <td>...</td>\n      <td>0.588013</td>\n      <td>0.000123</td>\n      <td>0.000252</td>\n      <td>0.000063</td>\n      <td>0.492416</td>\n      <td>1.000000</td>\n      <td>0.489328</td>\n      <td>1.000000</td>\n      <td>1.000000</td>\n      <td>1.000000</td>\n    </tr>\n    <tr>\n      <th>10</th>\n      <td>26509</td>\n      <td>3</td>\n      <td>17</td>\n      <td>4</td>\n      <td>1</td>\n      <td>1</td>\n      <td>3</td>\n      <td>4</td>\n      <td>5</td>\n      <td>1</td>\n      <td>...</td>\n      <td>0.129980</td>\n      <td>0.000226</td>\n      <td>0.000990</td>\n      <td>0.000158</td>\n      <td>0.430705</td>\n      <td>1.000000</td>\n      <td>1.000000</td>\n      <td>0.999998</td>\n      <td>0.783058</td>\n      <td>0.999859</td>\n    </tr>\n    <tr>\n      <th>11</th>\n      <td>19455</td>\n      <td>3</td>\n      <td>17</td>\n      <td>7</td>\n      <td>1</td>\n      <td>2</td>\n      <td>3</td>\n      <td>3</td>\n      <td>3</td>\n      <td>0</td>\n      <td>...</td>\n      <td>0.807814</td>\n      <td>0.000297</td>\n      <td>0.000797</td>\n      <td>0.000203</td>\n      <td>1.000000</td>\n      <td>1.000000</td>\n      <td>1.000000</td>\n      <td>1.000000</td>\n      <td>1.000000</td>\n      <td>1.000000</td>\n    </tr>\n    <tr>\n      <th>12</th>\n      <td>24227</td>\n      <td>3</td>\n      <td>17</td>\n      <td>4</td>\n      <td>1</td>\n      <td>4</td>\n      <td>3</td>\n      <td>3</td>\n      <td>3</td>\n      <td>0</td>\n      <td>...</td>\n      <td>0.106806</td>\n      <td>0.002186</td>\n      <td>0.009635</td>\n      <td>0.002455</td>\n      <td>1.000000</td>\n      <td>1.000000</td>\n      <td>1.000000</td>\n      <td>1.000000</td>\n      <td>1.000000</td>\n      <td>1.000000</td>\n    </tr>\n    <tr>\n      <th>13</th>\n      <td>151</td>\n      <td>3</td>\n      <td>17</td>\n      <td>4</td>\n      <td>1</td>\n      <td>3</td>\n      <td>2</td>\n      <td>5</td>\n      <td>5</td>\n      <td>1</td>\n      <td>...</td>\n      <td>0.025296</td>\n      <td>0.000065</td>\n      <td>0.000135</td>\n      <td>0.000032</td>\n      <td>1.000000</td>\n      <td>1.000000</td>\n      <td>1.000000</td>\n      <td>1.000000</td>\n      <td>1.000000</td>\n      <td>1.000000</td>\n    </tr>\n    <tr>\n      <th>14</th>\n      <td>14253</td>\n      <td>3</td>\n      <td>17</td>\n      <td>7</td>\n      <td>0</td>\n      <td>2</td>\n      <td>2</td>\n      <td>2</td>\n      <td>5</td>\n      <td>1</td>\n      <td>...</td>\n      <td>0.750071</td>\n      <td>0.000432</td>\n      <td>0.002795</td>\n      <td>0.000569</td>\n      <td>0.492438</td>\n      <td>1.000000</td>\n      <td>0.489343</td>\n      <td>1.000000</td>\n      <td>1.000000</td>\n      <td>1.000000</td>\n    </tr>\n    <tr>\n      <th>15</th>\n      <td>26066</td>\n      <td>3</td>\n      <td>17</td>\n      <td>4</td>\n      <td>1</td>\n      <td>0</td>\n      <td>3</td>\n      <td>2</td>\n      <td>5</td>\n      <td>0</td>\n      <td>...</td>\n      <td>0.036961</td>\n      <td>0.000227</td>\n      <td>0.000961</td>\n      <td>0.000185</td>\n      <td>0.430705</td>\n      <td>1.000000</td>\n      <td>0.434008</td>\n      <td>0.209436</td>\n      <td>0.922564</td>\n      <td>0.848056</td>\n    </tr>\n    <tr>\n      <th>16</th>\n      <td>14596</td>\n      <td>3</td>\n      <td>17</td>\n      <td>5</td>\n      <td>1</td>\n      <td>7</td>\n      <td>2</td>\n      <td>5</td>\n      <td>5</td>\n      <td>0</td>\n      <td>...</td>\n      <td>0.493043</td>\n      <td>0.000408</td>\n      <td>0.000694</td>\n      <td>0.000310</td>\n      <td>0.430705</td>\n      <td>1.000000</td>\n      <td>0.434008</td>\n      <td>1.000000</td>\n      <td>1.000000</td>\n      <td>1.000000</td>\n    </tr>\n    <tr>\n      <th>17</th>\n      <td>15792</td>\n      <td>3</td>\n      <td>17</td>\n      <td>4</td>\n      <td>1</td>\n      <td>5</td>\n      <td>2</td>\n      <td>4</td>\n      <td>5</td>\n      <td>0</td>\n      <td>...</td>\n      <td>0.658829</td>\n      <td>0.001542</td>\n      <td>0.009230</td>\n      <td>0.002211</td>\n      <td>0.492415</td>\n      <td>1.000000</td>\n      <td>0.489328</td>\n      <td>0.999071</td>\n      <td>1.000000</td>\n      <td>1.000000</td>\n    </tr>\n    <tr>\n      <th>18</th>\n      <td>1538</td>\n      <td>3</td>\n      <td>17</td>\n      <td>4</td>\n      <td>1</td>\n      <td>3</td>\n      <td>2</td>\n      <td>5</td>\n      <td>4</td>\n      <td>1</td>\n      <td>...</td>\n      <td>0.713415</td>\n      <td>0.000789</td>\n      <td>0.001783</td>\n      <td>0.000766</td>\n      <td>1.000000</td>\n      <td>1.000000</td>\n      <td>0.489328</td>\n      <td>1.000000</td>\n      <td>1.000000</td>\n      <td>1.000000</td>\n    </tr>\n    <tr>\n      <th>19</th>\n      <td>9388</td>\n      <td>3</td>\n      <td>17</td>\n      <td>7</td>\n      <td>0</td>\n      <td>5</td>\n      <td>2</td>\n      <td>5</td>\n      <td>3</td>\n      <td>1</td>\n      <td>...</td>\n      <td>0.154603</td>\n      <td>0.000443</td>\n      <td>0.001009</td>\n      <td>0.000505</td>\n      <td>0.430705</td>\n      <td>1.000000</td>\n      <td>0.434008</td>\n      <td>1.000000</td>\n      <td>1.000000</td>\n      <td>1.000000</td>\n    </tr>\n  </tbody>\n</table>\n<p>20 rows × 102 columns</p>\n</div>"
     },
     "execution_count": 24,
     "metadata": {},
     "output_type": "execute_result"
    }
   ],
   "source": [
    "test_aux_df = pd.read_csv('./data/save/test_predict_data_mmoeaux.csv')\n",
    "test_aux_df.columns = category_features + continuous_features + gen_columns + labels + ['p_'+l for l in labels] + ['w_'+l for l in labels]\n",
    "for col in category_features:\n",
    "    test_aux_df[col] = test_aux_df[col].map(int)\n",
    "test_aux_df.head(20)"
   ],
   "metadata": {
    "collapsed": false,
    "ExecuteTime": {
     "end_time": "2024-01-03T06:14:24.949976Z",
     "start_time": "2024-01-03T06:14:21.338542Z"
    }
   },
   "id": "8a775f753b93ab7f"
  },
  {
   "cell_type": "code",
   "execution_count": 59,
   "outputs": [],
   "source": [
    "record_weight = collections.defaultdict(list)\n",
    "for label in labels:\n",
    "    # print(test_aux_df['emp_' + label].quantile(0.8))\n",
    "    # print(test_aux_df['emp_' + label].quantile(0.2))\n",
    "    record_weight['pos_high'].append(test_aux_df[(test_aux_df['emp_' + label] > test_aux_df['emp_' + label].quantile(0.9)) & (test_aux_df[label] == 1)]['w_' + label].mean())\n",
    "    record_weight['neg_high'].append(test_aux_df[(test_aux_df['emp_' + label] > test_aux_df['emp_' + label].quantile(0.9)) & (test_aux_df[label] == 0)]['w_' + label].mean())\n",
    "    record_weight['pos_low'].append(test_aux_df[(test_aux_df['emp_' + label] <= test_aux_df['emp_' + label].quantile(0.4)) & (test_aux_df[label] == 1)]['w_' + label].mean())\n",
    "    record_weight['neg_low'].append(test_aux_df[(test_aux_df['emp_' + label] <= test_aux_df['emp_' + label].quantile(0.4)) & (test_aux_df[label] == 0)]['w_' + label].mean())\n",
    "    # print('正样本高'+label, pos_high_weight)\n",
    "    # print('负样本高'+label, neg_high_weight)\n",
    "    # print('正样本低'+label, pos_low_weight)\n",
    "    # print('负样本低'+label, neg_low_weight)\n",
    "    # print()"
   ],
   "metadata": {
    "collapsed": false,
    "ExecuteTime": {
     "end_time": "2024-01-03T07:31:54.659977Z",
     "start_time": "2024-01-03T07:31:54.266745Z"
    }
   },
   "id": "c198dcc32efb2f2c"
  },
  {
   "cell_type": "code",
   "execution_count": 64,
   "outputs": [
    {
     "name": "stdout",
     "output_type": "stream",
     "text": [
      "   pos_high  neg_high   pos_low   neg_low\n",
      "0  0.598824  0.898799  0.825052  0.656748\n",
      "1  0.565845  0.987674  0.951269  0.580070\n",
      "2  0.584924  0.913034  0.818894  0.670539\n",
      "3  0.663790  0.983766  0.903080  0.753633\n",
      "4  0.751237  0.993735  0.910032  0.674433\n",
      "5  0.676165  0.996400  0.970873  0.677514\n"
     ]
    },
    {
     "data": {
      "text/plain": "<Figure size 432x288 with 1 Axes>",
      "image/png": "[encoded data removed]"
     },
     "metadata": {},
     "output_type": "display_data"
    }
   ],
   "source": [
    "import matplotlib.pyplot as plt\n",
    "import numpy as np\n",
    "\n",
    "# 数据\n",
    "record_weight = {'pos_high': [0.5988236920422424, 0.5658447387770479, 0.5849236893580934, 0.6637900188565254, 0.7512371900180975, 0.6761645831559834], 'neg_high': [0.8987989552567498, 0.9876744009719732, 0.9130337594524389, 0.9837659867997476, 0.993734952849787, 0.9963999386318028], 'pos_low': [0.8250515630195567, 0.9512688533123661, 0.8188941978329657, 0.9030802881280386, 0.9100322628574298, 0.9708731171026612], 'neg_low': [0.6567476225642127, 0.5800700295356012, 0.6705386941326175, 0.7536330893194887, 0.6744334491945448, 0.6775144437948862]}\n",
    "weight_df = pd.DataFrame(record_weight, index=list(range(len(labels))))\n",
    "print(weight_df)\n",
    "# types = ['pos_high', 'neg_high', 'pos_low', 'neg_low']\n",
    "# positive_high, negative_high, positive_low, negative_low = [], [], [], []\n",
    "positive_high = weight_df['pos_high']\n",
    "negative_high = weight_df['neg_high']\n",
    "positive_low = weight_df['pos_low']\n",
    "negative_low = weight_df['neg_low']\n",
    "\n",
    "bar_width = 0.2\n",
    "index = np.arange(len(labels))\n",
    "\n",
    "# 画簇状柱形图\n",
    "plt.bar(index - 1.5 * bar_width, positive_high, width=bar_width, label='Positive High')\n",
    "plt.bar(index - 0.5 * bar_width, negative_high, width=bar_width, label='Negative High')\n",
    "plt.bar(index + 0.5 * bar_width, positive_low, width=bar_width, label='Positive Low')\n",
    "plt.bar(index + 1.5 * bar_width, negative_low, width=bar_width, label='Negative Low')\n",
    "\n",
    "# 设置图例\n",
    "plt.legend()\n",
    "\n",
    "# 设置横坐标和纵坐标的标签\n",
    "plt.xticks(index, labels)\n",
    "plt.ylabel('Values')\n",
    "\n",
    "# 显示图形\n",
    "# plt.show()\n",
    "plt.savefig('./data/figure/weight.png')"
   ],
   "metadata": {
    "collapsed": false,
    "ExecuteTime": {
     "end_time": "2024-01-03T14:14:05.790423Z",
     "start_time": "2024-01-03T14:14:05.250857Z"
    }
   },
   "id": "9dbee1302abd135d"
  },
  {
   "cell_type": "code",
   "execution_count": null,
   "outputs": [],
   "source": [],
   "metadata": {
    "collapsed": false
   },
   "id": "d5a393d13d14fcf4"
  }
 ],
 "metadata": {
  "kernelspec": {
   "display_name": "Python 3",
   "language": "python",
   "name": "python3"
  },
  "language_info": {
   "codemirror_mode": {
    "name": "ipython",
    "version": 2
   },
   "file_extension": ".py",
   "mimetype": "text/x-python",
   "name": "python",
   "nbconvert_exporter": "python",
   "pygments_lexer": "ipython2",
   "version": "2.7.6"
  }
 },
 "nbformat": 4,
 "nbformat_minor": 5
}
